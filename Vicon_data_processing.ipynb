{
 "cells": [
  {
   "cell_type": "markdown",
   "metadata": {},
   "source": [
    "This is a Sample Script to convert the string data for Vicon stream back to list of float and strings"
   ]
  },
  {
   "cell_type": "code",
   "execution_count": 4,
   "metadata": {},
   "outputs": [],
   "source": [
    "import pyxdf\n",
    "import numpy as np\n",
    "import os\n",
    "\n",
    "\"\"\"\n",
    "Since LSL stores each stream in xdf formate we will nead pyxdf to read the file\n",
    "\"\"\"\n",
    "\n",
    "filename='sub-P001_ses-S001_task-Default_run-001_eeg.xdf'\n",
    "filepath=f'sub-P001\\ses-S001\\eeg\\{filename}'"
   ]
  },
  {
   "cell_type": "markdown",
   "metadata": {},
   "source": [
    "Read the data"
   ]
  },
  {
   "cell_type": "code",
   "execution_count": 10,
   "metadata": {},
   "outputs": [],
   "source": [
    "data,header=pyxdf.load_xdf(filepath)"
   ]
  },
  {
   "cell_type": "markdown",
   "metadata": {},
   "source": [
    "Converting Strings back to list\n",
    "\n"
   ]
  },
  {
   "cell_type": "code",
   "execution_count": 12,
   "metadata": {},
   "outputs": [
    {
     "data": {
      "text/plain": [
       "'\\nThe data_per_marker is list of list with each list containing data from different markers [[marker1],[marker2],....]\\nnow marker1 is list containing data for marker1 [[sample1],[sample2],[sample3],..]\\nwhere each sample is [[x,y,z],marker name] | here x,y,z are global translation coordinates in millimeters\\n\\n'"
      ]
     },
     "execution_count": 12,
     "metadata": {},
     "output_type": "execute_result"
    }
   ],
   "source": [
    "\"\"\"\n",
    "We need to get the number of markers in the stream , I've done it using length of one sample\n",
    "If the file contains data from multiple streams, we need to isolate data from vicon stream\n",
    "data in the xdf file will be list of dictionaries [{stream 1},{stream 2},..], each dictionary contains data from different streams\n",
    "The vicon time series is list of samples [[sample1],[sample2],...], where each sample is ['marker1 data','marker2 data',.....]\n",
    "\n",
    "\"\"\"\n",
    "data_per_marker=[[] for _ in range(len(data[1]['time_series'][0]))]\n",
    "\n",
    "for data_series in data:\n",
    "    if data_series['info']['name'][0]=='Vicon_Labeled_Markers':\n",
    "        \n",
    "        for datum in data_series['time_series']:\n",
    "            \n",
    "            for id,value in enumerate(datum):\n",
    "                string=value.split(']')\n",
    "                marker_data=string[0][1:]\n",
    "                marker_data_list=marker_data.split(',')\n",
    "                for i,v in enumerate(marker_data_list):\n",
    "                    marker_data_list[i]=float(v)\n",
    "                marker_name=string[-1].split(',')[1]\n",
    "                value=[marker_data_list,marker_name]\n",
    "\n",
    "                data_per_marker[id].append(value)\n",
    "\n",
    "        \n",
    "\"\"\"\n",
    "The data_per_marker is list of list with each list containing data from different markers [[marker1],[marker2],....]\n",
    "now marker1 is list containing data for marker1 [[sample1],[sample2],[sample3],..]\n",
    "where each sample is [[x,y,z],marker name] | here x,y,z are global translation coordinates in millimeters\n",
    "\n",
    "\"\"\"       \n"
   ]
  },
  {
   "cell_type": "code",
   "execution_count": null,
   "metadata": {},
   "outputs": [],
   "source": []
  }
 ],
 "metadata": {
  "interpreter": {
   "hash": "b3ba2566441a7c06988d0923437866b63cedc61552a5af99d1f4fb67d367b25f"
  },
  "kernelspec": {
   "display_name": "Python 3.8.8 ('base')",
   "language": "python",
   "name": "python3"
  },
  "language_info": {
   "codemirror_mode": {
    "name": "ipython",
    "version": 3
   },
   "file_extension": ".py",
   "mimetype": "text/x-python",
   "name": "python",
   "nbconvert_exporter": "python",
   "pygments_lexer": "ipython3",
   "version": "3.8.8"
  },
  "orig_nbformat": 4
 },
 "nbformat": 4,
 "nbformat_minor": 2
}
